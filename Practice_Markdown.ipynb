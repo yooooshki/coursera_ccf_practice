{
  "cells": [
    {
      "cell_type": "markdown",
      "metadata": {
        "id": "view-in-github",
        "colab_type": "text"
      },
      "source": [
        "<a href=\"https://colab.research.google.com/github/yooooshki/coursera_ccf_practice/blob/main/Practice_Markdown.ipynb\" target=\"_parent\"><img src=\"https://colab.research.google.com/assets/colab-badge.svg\" alt=\"Open In Colab\"/></a>"
      ]
    },
    {
      "cell_type": "markdown",
      "metadata": {
        "id": "KdD2qh-Jon7V"
      },
      "source": [
        "## Practice Markdown"
      ]
    },
    {
      "cell_type": "markdown",
      "metadata": {
        "id": "rCNCmXG7on7a"
      },
      "source": [
        "This notebook lets you experiment with producing repeatable technical documentation.  Use this notebook to do the following actions:\n",
        "\n",
        "* Create a code cell and print a Python Hello World statement:  `print(\"hello world\")`\n",
        "* Create a Markdown Cell and add a Title using `#` and then a statement using plain text.  You can looks at the source code for this cell to get an idea of how to use Markdown.\n",
        "* Take some ideas from the [Master Markdown Github Guide](https://guides.github.com/features/mastering-markdown/) and implement them here.\n",
        "* Download this notebook as a `.ipynb` file and check into a Github Project.  You can [see an example here](https://github.com/noahgift/duke-coursera-ccf-lab1/blob/main/Practice-Markdown.ipynb).\n",
        "* Open your notebook in Google Colab and save it into the same Github Project.  You can [see an example here](https://github.com/noahgift/duke-coursera-ccf-lab1/blob/main/Practice_Markdown_with_colab.ipynb).\n"
      ]
    },
    {
      "cell_type": "code",
      "execution_count": null,
      "metadata": {
        "id": "abtx4MVjon7b",
        "outputId": "21c8d53b-8613-4c0a-ff2d-5737abc001b8"
      },
      "outputs": [
        {
          "name": "stdout",
          "output_type": "stream",
          "text": [
            "Hello world\n"
          ]
        }
      ],
      "source": [
        "print(\"Hello world\")"
      ]
    },
    {
      "cell_type": "markdown",
      "metadata": {
        "id": "FZhpUHgmon7c"
      },
      "source": [
        "# This is a markdown heading/title"
      ]
    },
    {
      "cell_type": "markdown",
      "metadata": {
        "id": "gYBSa_Nton7c"
      },
      "source": [
        "## This is a smaller heading, can be used as a sub-heading"
      ]
    },
    {
      "cell_type": "markdown",
      "metadata": {
        "id": "EjzJhzAGon7c"
      },
      "source": [
        "These are bullet points and numbered points:\n",
        "* one\n",
        "* two\n",
        "* three"
      ]
    },
    {
      "cell_type": "markdown",
      "metadata": {
        "id": "yjci6Vqdon7d"
      },
      "source": [
        "1. one\n",
        "2. two\n",
        "3. three"
      ]
    },
    {
      "cell_type": "markdown",
      "metadata": {
        "id": "a1YTWN73on7d"
      },
      "source": [
        "*Here* are some **words** that **utilize markdown _syntax_** like ~~strikethrough~~ and such<sup>lol</sup>\n",
        "> ***and a quote***"
      ]
    },
    {
      "cell_type": "code",
      "execution_count": null,
      "metadata": {
        "id": "Y85nNPU1on7d"
      },
      "outputs": [],
      "source": []
    }
  ],
  "metadata": {
    "kernelspec": {
      "display_name": "Python 3",
      "language": "python",
      "name": "python3"
    },
    "language_info": {
      "codemirror_mode": {
        "name": "ipython",
        "version": 3
      },
      "file_extension": ".py",
      "mimetype": "text/x-python",
      "name": "python",
      "nbconvert_exporter": "python",
      "pygments_lexer": "ipython3",
      "version": "3.7.6"
    },
    "colab": {
      "provenance": [],
      "include_colab_link": true
    }
  },
  "nbformat": 4,
  "nbformat_minor": 0
}